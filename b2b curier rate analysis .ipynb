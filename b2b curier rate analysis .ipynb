{
 "cells": [
  {
   "cell_type": "markdown",
   "id": "5c6ffc42-d26f-4435-bb7d-ab7c1e8e3105",
   "metadata": {},
   "source": [
    "                                      B2B COURIER CHARGES ACCURACY ANALYSIS"
   ]
  },
  {
   "cell_type": "markdown",
   "id": "1b982876-1f42-49c3-9f0b-8ca2c2a36b97",
   "metadata": {},
   "source": [
    "NOTE : CHECK THE README FILE BEFORE PROCEEDING"
   ]
  },
  {
   "cell_type": "markdown",
   "id": "0d823051-a4c3-446b-a477-561fae73a0a3",
   "metadata": {},
   "source": [
    "Step 1: importing the datset."
   ]
  },
  {
   "cell_type": "code",
   "execution_count": 35,
   "id": "0c7267e6-de1b-4941-be93-d95b225533cc",
   "metadata": {
    "tags": []
   },
   "outputs": [],
   "source": [
    "import pandas as pd\n",
    "\n",
    "order_report=pd.read_csv('Order Report.csv')\n",
    "sku_master=pd.read_csv('SKU Master.csv')\n",
    "courier_company_rates=pd.read_csv('Courier Company - Rates.csv')\n",
    "courier_invoice=pd.read_csv('Invoice.csv')\n",
    "pincode_mapping=pd.read_csv('pincodes.csv')"
   ]
  },
  {
   "cell_type": "code",
   "execution_count": 36,
   "id": "71890f01-30fa-4e50-85af-6dcbe2d44dc8",
   "metadata": {
    "tags": []
   },
   "outputs": [
    {
     "name": "stdout",
     "output_type": "stream",
     "text": [
      "ORDER REPORT\n",
      "   ExternOrderNo            SKU  Order Qty  Unnamed: 3  Unnamed: 4\n",
      "0     2001827036  8904223818706        1.0         NaN         NaN\n",
      "1     2001827036  8904223819093        1.0         NaN         NaN\n",
      "2     2001827036  8904223819109        1.0         NaN         NaN\n",
      "3     2001827036  8904223818430        1.0         NaN         NaN\n",
      "4     2001827036  8904223819277        1.0         NaN         NaN\n",
      "\n",
      "SKU MASTER\n",
      "             SKU  Weight (g)  Unnamed: 2  Unnamed: 3  Unnamed: 4\n",
      "0  8904223815682         210         NaN         NaN         NaN\n",
      "1  8904223815859         165         NaN         NaN         NaN\n",
      "2  8904223815866         113         NaN         NaN         NaN\n",
      "3  8904223815873          65         NaN         NaN         NaN\n",
      "4  8904223816214         120         NaN         NaN         NaN\n",
      "\n",
      "courier company rates\n",
      "   fwd_a_fixed  fwd_a_additional  fwd_b_fixed  fwd_b_additional  fwd_c_fixed  \\\n",
      "0         29.5              23.6           33              28.3         40.1   \n",
      "\n",
      "   fwd_c_additional  fwd_d_fixed  fwd_d_additional  fwd_e_fixed  \\\n",
      "0              38.9         45.4              44.8         56.6   \n",
      "\n",
      "   fwd_e_additional  rto_a_fixed  rto_a_additional  rto_b_fixed  \\\n",
      "0              55.5         13.6              23.6         20.5   \n",
      "\n",
      "   rto_b_additional  rto_c_fixed  rto_c_additional  rto_d_fixed  \\\n",
      "0              28.3         31.9              38.9         41.3   \n",
      "\n",
      "   rto_d_additional  rto_e_fixed  rto_e_additional  \n",
      "0              44.8         50.7              55.5  \n",
      "\n",
      "courier invoice\n",
      "        AWB Code    Order ID  Charged Weight  Warehouse Pincode  \\\n",
      "0  1091117222124  2001806232            1.30             121003   \n",
      "1  1091117222194  2001806273            1.00             121003   \n",
      "2  1091117222931  2001806408            2.50             121003   \n",
      "3  1091117223244  2001806458            1.00             121003   \n",
      "4  1091117229345  2001807012            0.15             121003   \n",
      "\n",
      "   Customer Pincode Zone Type of Shipment  Billing Amount (Rs.)  \n",
      "0            507101    d  Forward charges                 135.0  \n",
      "1            486886    d  Forward charges                  90.2  \n",
      "2            532484    d  Forward charges                 224.6  \n",
      "3            143001    b  Forward charges                  61.3  \n",
      "4            515591    d  Forward charges                  45.4  \n",
      "\n",
      "pincode mapping\n",
      "   Warehouse Pincode  Customer Pincode Zone  Unnamed: 3  Unnamed: 4\n",
      "0             121003            507101    d         NaN         NaN\n",
      "1             121003            486886    d         NaN         NaN\n",
      "2             121003            532484    d         NaN         NaN\n",
      "3             121003            143001    b         NaN         NaN\n",
      "4             121003            515591    d         NaN         NaN\n"
     ]
    }
   ],
   "source": [
    "print(\"ORDER REPORT\")\n",
    "print(order_report.head())\n",
    "print(\"\\nSKU MASTER\")\n",
    "print(sku_master.head())\n",
    "print(\"\\ncourier company rates\")\n",
    "print(courier_company_rates.head())\n",
    "print(\"\\ncourier invoice\")\n",
    "print(courier_invoice.head())\n",
    "print(\"\\npincode mapping\")\n",
    "print(pincode_mapping.head())"
   ]
  },
  {
   "cell_type": "markdown",
   "id": "a6fb745c-5bf0-4774-80b2-b1752237d4e7",
   "metadata": {},
   "source": [
    "CLEANING THE DATA :\n",
    "1)CHECK FOR MISSING VALUES AND CLEAN THEM.\n",
    "2)REMOVE DUPLICATES ALONG THE WAY "
   ]
  },
  {
   "cell_type": "code",
   "execution_count": 37,
   "id": "1eb96a26-d133-41c7-9ae5-9a8000379af3",
   "metadata": {
    "tags": []
   },
   "outputs": [
    {
     "name": "stdout",
     "output_type": "stream",
     "text": [
      "\n",
      "Missing values in Website Order Report:\n",
      "ExternOrderNo      0\n",
      "SKU                0\n",
      "Order Qty          0\n",
      "Unnamed: 3       400\n",
      "Unnamed: 4       400\n",
      "dtype: int64\n",
      "\n",
      "Missing values in SKU Master:\n",
      "SKU            0\n",
      "Weight (g)     0\n",
      "Unnamed: 2    66\n",
      "Unnamed: 3    66\n",
      "Unnamed: 4    66\n",
      "dtype: int64\n",
      "\n",
      "Missing values in Pincode Mapping:\n",
      "Warehouse Pincode      0\n",
      "Customer Pincode       0\n",
      "Zone                   0\n",
      "Unnamed: 3           124\n",
      "Unnamed: 4           124\n",
      "dtype: int64\n",
      "\n",
      "Missing values in Courier Invoice:\n",
      "AWB Code                0\n",
      "Order ID                0\n",
      "Charged Weight          0\n",
      "Warehouse Pincode       0\n",
      "Customer Pincode        0\n",
      "Zone                    0\n",
      "Type of Shipment        0\n",
      "Billing Amount (Rs.)    0\n",
      "dtype: int64\n",
      "\n",
      "Missing values in courier company rates:\n",
      "fwd_a_fixed         0\n",
      "fwd_a_additional    0\n",
      "fwd_b_fixed         0\n",
      "fwd_b_additional    0\n",
      "fwd_c_fixed         0\n",
      "fwd_c_additional    0\n",
      "fwd_d_fixed         0\n",
      "fwd_d_additional    0\n",
      "fwd_e_fixed         0\n",
      "fwd_e_additional    0\n",
      "rto_a_fixed         0\n",
      "rto_a_additional    0\n",
      "rto_b_fixed         0\n",
      "rto_b_additional    0\n",
      "rto_c_fixed         0\n",
      "rto_c_additional    0\n",
      "rto_d_fixed         0\n",
      "rto_d_additional    0\n",
      "rto_e_fixed         0\n",
      "rto_e_additional    0\n",
      "dtype: int64\n"
     ]
    }
   ],
   "source": [
    "print(\"\\nMissing values in Website Order Report:\")\n",
    "print(order_report.isnull().sum())\n",
    "print(\"\\nMissing values in SKU Master:\")\n",
    "print(sku_master.isnull().sum())\n",
    "print(\"\\nMissing values in Pincode Mapping:\")\n",
    "print(pincode_mapping.isnull().sum())\n",
    "print(\"\\nMissing values in Courier Invoice:\")\n",
    "print(courier_invoice.isnull().sum())\n",
    "print(\"\\nMissing values in courier company rates:\")\n",
    "print(courier_company_rates.isnull().sum())"
   ]
  },
  {
   "cell_type": "code",
   "execution_count": null,
   "id": "76a0ea65-8046-42cf-a9a3-bc85a19dc5de",
   "metadata": {
    "tags": []
   },
   "outputs": [],
   "source": [
    "# Remove unnamed columns from the Website Order Report DataFrame\n",
    "order_report=order_report.drop(columns=['Unnamed: 3', 'Unnamed: 4'])\n",
    "\n",
    "# Remove unnamed columns from the SKU Master DataFrame\n",
    "sku_master = sku_master.drop(columns=['Unnamed: 2', 'Unnamed: 3', 'Unnamed: 4'])\n",
    "\n",
    "# Remove unnamed columns from the Pincode Mapping DataFrame\n",
    "pincode_mapping = pincode_mapping.drop(columns=['Unnamed: 3','Unnamed: 4'])"
   ]
  },
  {
   "cell_type": "code",
   "execution_count": 45,
   "id": "f55065c5-2875-474d-940a-8e13f6388545",
   "metadata": {
    "tags": []
   },
   "outputs": [
    {
     "name": "stdout",
     "output_type": "stream",
     "text": [
      "   ExternOrderNo            SKU  Order Qty  Weight (g)\n",
      "0     2001827036  8904223818706        1.0         127\n",
      "1     2001821995  8904223818706        1.0         127\n",
      "2     2001819252  8904223818706        1.0         127\n",
      "3     2001816996  8904223818706        1.0         127\n",
      "4     2001814580  8904223818706        1.0         127\n"
     ]
    }
   ],
   "source": [
    "# merge the order report sku master datalust for simplicity.\n",
    "merged_data=pd.merge(order_report,sku_master,on='SKU')\n",
    "print(merged_data.head())"
   ]
  },
  {
   "cell_type": "code",
   "execution_count": 47,
   "id": "91d5db19-e0ec-4c14-8340-da9e4eb11efe",
   "metadata": {
    "tags": []
   },
   "outputs": [],
   "source": [
    "# Renamed the \"ExternOrderNo\" column to \"Order ID\" in the merged_data DataFrame just for my simiplicity\n",
    "merged_data = merged_data.rename(columns={'ExternOrderNo': 'Order ID'})"
   ]
  },
  {
   "cell_type": "markdown",
   "id": "2090b82b-1e25-4594-a6a2-b42c13c09b2a",
   "metadata": {},
   "source": [
    "SINCE POSSIBILITY OF HAVING DUPLICATE CUSTOMER PINCDOE IS HIGH HENCE DROPPED THE DUPLICATE CUSTOMER PINCODE.\n",
    "MERGED THE BOTH THE DATASETS.\n"
   ]
  },
  {
   "cell_type": "code",
   "execution_count": 57,
   "id": "59a94a06-1aa8-4f4b-a586-bc5887488578",
   "metadata": {
    "tags": []
   },
   "outputs": [
    {
     "name": "stdout",
     "output_type": "stream",
     "text": [
      "     Order ID  Customer Pincode Type of Shipment  Warehouse Pincode Zone\n",
      "0  2001806232            507101  Forward charges             121003    d\n",
      "1  2001806273            486886  Forward charges             121003    d\n",
      "2  2001806408            532484  Forward charges             121003    d\n",
      "3  2001806458            143001  Forward charges             121003    b\n",
      "4  2001807012            515591  Forward charges             121003    d\n"
     ]
    }
   ],
   "source": [
    "#This merge operation helps us associate customer pin codes with their respective orders and shipping types. The resulting DataFrame is named ‘pincodes’.\n",
    "abc_courier = pincode_mapping.drop_duplicates(subset=['Customer Pincode'])\n",
    "courier_abc= courier_invoice[['Order ID', 'Customer Pincode','Type of Shipment']]\n",
    "pincodes= courier_abc.merge(abc_courier,on='Customer Pincode')\n",
    "print(pincodes.head())"
   ]
  },
  {
   "cell_type": "code",
   "execution_count": 59,
   "id": "57581913-c6ce-45c1-9137-c8b645bee7d0",
   "metadata": {
    "tags": []
   },
   "outputs": [],
   "source": [
    "#let’s merge the pin codes with the main dataframe:\n",
    "merged2 = merged_data.merge(pincodes, on='Order ID')"
   ]
  },
  {
   "cell_type": "code",
   "execution_count": 60,
   "id": "e5335237-8880-4633-b0d3-aaf61294bc7d",
   "metadata": {
    "tags": []
   },
   "outputs": [],
   "source": [
    "#Now let’s calculate the weight in kilograms by dividing the ‘Weight (g)’ column in the ‘merged2’ DataFrame by 1000:\n",
    "merged2['Weights (Kgs)'] = merged2['Weight (g)'] / 1000"
   ]
  },
  {
   "cell_type": "code",
   "execution_count": 62,
   "id": "a3e08252-6fa1-46a3-be0a-8ffe59b2e27c",
   "metadata": {
    "tags": []
   },
   "outputs": [],
   "source": [
    "#Now let’s calculate the weight slabs:\n",
    "def weight_slab(weight):\n",
    "    i = round(weight % 1, 1)\n",
    "    if i == 0.0:\n",
    "        return weight\n",
    "    elif i > 0.5:\n",
    "        return int(weight) + 1.0\n",
    "    else:\n",
    "        return int(weight) + 0.5\n",
    "\n",
    "merged2['Weight Slab (KG)'] = merged2['Weights (Kgs)'].apply(weight_slab)\n",
    "courier_invoice['Weight Slab Charged by Courier Company']=(courier_invoice['Charged Weight']).apply(weight_slab)"
   ]
  },
  {
   "cell_type": "markdown",
   "id": "ea247496-1bd8-433c-a36a-b7a5b73f98e3",
   "metadata": {},
   "source": [
    "The weight_slab() function is defined to determine the weight slab based on the weight of the shipment. It takes the input weight and applies certain conditions to calculate the weight slab.\n",
    "in simple language approximating the weights to nearest weights."
   ]
  },
  {
   "cell_type": "code",
   "execution_count": 63,
   "id": "cfd5ea84-8e26-4b3b-bb6d-781b900744a8",
   "metadata": {
    "tags": []
   },
   "outputs": [],
   "source": [
    "courier_invoice = courier_invoice.rename(columns={'Zone': 'Delivery Zone Charged by Courier Company'})\n",
    "merged2 = merged2.rename(columns={'Zone': 'Delivery Zone As Per ABC'})\n",
    "merged2 = merged2.rename(columns={'Weight Slab (KG)': 'Weight Slab As Per ABC'})"
   ]
  },
  {
   "cell_type": "markdown",
   "id": "630dc2d2-8502-4d16-bdc1-60579a525754",
   "metadata": {},
   "source": [
    "The above renaming is done as per the problem statement.Now lets calculate the expected charges.\n"
   ]
  },
  {
   "cell_type": "code",
   "execution_count": 66,
   "id": "eae76b78-65a0-4e1e-bbce-d7167248f057",
   "metadata": {
    "tags": []
   },
   "outputs": [
    {
     "data": {
      "text/html": [
       "<div>\n",
       "<style scoped>\n",
       "    .dataframe tbody tr th:only-of-type {\n",
       "        vertical-align: middle;\n",
       "    }\n",
       "\n",
       "    .dataframe tbody tr th {\n",
       "        vertical-align: top;\n",
       "    }\n",
       "\n",
       "    .dataframe thead th {\n",
       "        text-align: right;\n",
       "    }\n",
       "</style>\n",
       "<table border=\"1\" class=\"dataframe\">\n",
       "  <thead>\n",
       "    <tr style=\"text-align: right;\">\n",
       "      <th></th>\n",
       "      <th>Order ID</th>\n",
       "      <th>SKU</th>\n",
       "      <th>Order Qty</th>\n",
       "      <th>Weight (g)</th>\n",
       "      <th>Customer Pincode</th>\n",
       "      <th>Type of Shipment</th>\n",
       "      <th>Warehouse Pincode</th>\n",
       "      <th>Delivery Zone As Per ABC</th>\n",
       "      <th>Weights (Kgs)</th>\n",
       "      <th>Weight Slab As Per ABC</th>\n",
       "      <th>Expected Charge as per ABC</th>\n",
       "    </tr>\n",
       "  </thead>\n",
       "  <tbody>\n",
       "    <tr>\n",
       "      <th>0</th>\n",
       "      <td>2001827036</td>\n",
       "      <td>8904223818706</td>\n",
       "      <td>1.0</td>\n",
       "      <td>127</td>\n",
       "      <td>173213</td>\n",
       "      <td>Forward charges</td>\n",
       "      <td>121003</td>\n",
       "      <td>e</td>\n",
       "      <td>0.127</td>\n",
       "      <td>0.5</td>\n",
       "      <td>56.6</td>\n",
       "    </tr>\n",
       "    <tr>\n",
       "      <th>1</th>\n",
       "      <td>2001827036</td>\n",
       "      <td>8904223819093</td>\n",
       "      <td>1.0</td>\n",
       "      <td>150</td>\n",
       "      <td>173213</td>\n",
       "      <td>Forward charges</td>\n",
       "      <td>121003</td>\n",
       "      <td>e</td>\n",
       "      <td>0.150</td>\n",
       "      <td>0.5</td>\n",
       "      <td>56.6</td>\n",
       "    </tr>\n",
       "    <tr>\n",
       "      <th>2</th>\n",
       "      <td>2001827036</td>\n",
       "      <td>8904223819109</td>\n",
       "      <td>1.0</td>\n",
       "      <td>100</td>\n",
       "      <td>173213</td>\n",
       "      <td>Forward charges</td>\n",
       "      <td>121003</td>\n",
       "      <td>e</td>\n",
       "      <td>0.100</td>\n",
       "      <td>0.5</td>\n",
       "      <td>56.6</td>\n",
       "    </tr>\n",
       "    <tr>\n",
       "      <th>3</th>\n",
       "      <td>2001827036</td>\n",
       "      <td>8904223818430</td>\n",
       "      <td>1.0</td>\n",
       "      <td>165</td>\n",
       "      <td>173213</td>\n",
       "      <td>Forward charges</td>\n",
       "      <td>121003</td>\n",
       "      <td>e</td>\n",
       "      <td>0.165</td>\n",
       "      <td>0.5</td>\n",
       "      <td>56.6</td>\n",
       "    </tr>\n",
       "    <tr>\n",
       "      <th>4</th>\n",
       "      <td>2001827036</td>\n",
       "      <td>8904223819277</td>\n",
       "      <td>1.0</td>\n",
       "      <td>350</td>\n",
       "      <td>173213</td>\n",
       "      <td>Forward charges</td>\n",
       "      <td>121003</td>\n",
       "      <td>e</td>\n",
       "      <td>0.350</td>\n",
       "      <td>0.5</td>\n",
       "      <td>56.6</td>\n",
       "    </tr>\n",
       "  </tbody>\n",
       "</table>\n",
       "</div>"
      ],
      "text/plain": [
       "     Order ID            SKU  Order Qty  Weight (g)  Customer Pincode  \\\n",
       "0  2001827036  8904223818706        1.0         127            173213   \n",
       "1  2001827036  8904223819093        1.0         150            173213   \n",
       "2  2001827036  8904223819109        1.0         100            173213   \n",
       "3  2001827036  8904223818430        1.0         165            173213   \n",
       "4  2001827036  8904223819277        1.0         350            173213   \n",
       "\n",
       "  Type of Shipment  Warehouse Pincode Delivery Zone As Per ABC  Weights (Kgs)  \\\n",
       "0  Forward charges             121003                        e          0.127   \n",
       "1  Forward charges             121003                        e          0.150   \n",
       "2  Forward charges             121003                        e          0.100   \n",
       "3  Forward charges             121003                        e          0.165   \n",
       "4  Forward charges             121003                        e          0.350   \n",
       "\n",
       "   Weight Slab As Per ABC  Expected Charge as per ABC  \n",
       "0                     0.5                        56.6  \n",
       "1                     0.5                        56.6  \n",
       "2                     0.5                        56.6  \n",
       "3                     0.5                        56.6  \n",
       "4                     0.5                        56.6  "
      ]
     },
     "execution_count": 66,
     "metadata": {},
     "output_type": "execute_result"
    }
   ],
   "source": [
    "total_expected_charge = []\n",
    "\n",
    "for _, row in merged2.iterrows():\n",
    "    fwd_category = 'fwd_' + row['Delivery Zone As Per ABC']\n",
    "    fwd_fixed = courier_company_rates.at[0, fwd_category + '_fixed']\n",
    "    fwd_additional = courier_company_rates.at[0, fwd_category + '_additional']\n",
    "    rto_category = 'rto_' + row['Delivery Zone As Per ABC']\n",
    "    rto_fixed = courier_company_rates.at[0, rto_category + '_fixed']\n",
    "    rto_additional = courier_company_rates.at[0, rto_category + '_additional']\n",
    "\n",
    "    weight_slab = row['Weight Slab As Per ABC']\n",
    "\n",
    "    if row['Type of Shipment'] == 'Forward charges':\n",
    "        additional_weight = max(0, (weight_slab - 0.5) / 0.5)\n",
    "        total_expected_charge.append(fwd_fixed + additional_weight * fwd_additional)\n",
    "    elif row['Type of Shipment'] == 'Forward and RTO charges':\n",
    "        additional_weight = max(0, (weight_slab - 0.5) / 0.5)\n",
    "        total_expected_charge.append(fwd_fixed + additional_weight * (fwd_additional + rto_additional))\n",
    "    else:\n",
    "        total_expected_charge.append(0)\n",
    "\n",
    "merged2['Expected Charge as per ABC'] = total_expected_charge\n",
    "merged2.head()"
   ]
  },
  {
   "cell_type": "markdown",
   "id": "6a900bf0-cb2f-4dbc-8c07-c3d76b2e5c80",
   "metadata": {},
   "source": [
    "Now let’s merge it with the courier invoice to display the final dataframe:"
   ]
  },
  {
   "cell_type": "code",
   "execution_count": 69,
   "id": "5dddea99-5b9e-4a36-825c-cebc3badc81b",
   "metadata": {
    "tags": []
   },
   "outputs": [
    {
     "data": {
      "text/html": [
       "<div>\n",
       "<style scoped>\n",
       "    .dataframe tbody tr th:only-of-type {\n",
       "        vertical-align: middle;\n",
       "    }\n",
       "\n",
       "    .dataframe tbody tr th {\n",
       "        vertical-align: top;\n",
       "    }\n",
       "\n",
       "    .dataframe thead th {\n",
       "        text-align: right;\n",
       "    }\n",
       "</style>\n",
       "<table border=\"1\" class=\"dataframe\">\n",
       "  <thead>\n",
       "    <tr style=\"text-align: right;\">\n",
       "      <th></th>\n",
       "      <th>Order ID</th>\n",
       "      <th>SKU</th>\n",
       "      <th>Order Qty</th>\n",
       "      <th>Weight (g)</th>\n",
       "      <th>Customer Pincode_x</th>\n",
       "      <th>Type of Shipment_x</th>\n",
       "      <th>Warehouse Pincode_x</th>\n",
       "      <th>Delivery Zone As Per ABC</th>\n",
       "      <th>Weights (Kgs)</th>\n",
       "      <th>Weight Slab As Per ABC</th>\n",
       "      <th>Expected Charge as per ABC</th>\n",
       "      <th>AWB Code</th>\n",
       "      <th>Charged Weight</th>\n",
       "      <th>Warehouse Pincode_y</th>\n",
       "      <th>Customer Pincode_y</th>\n",
       "      <th>Delivery Zone Charged by Courier Company</th>\n",
       "      <th>Type of Shipment_y</th>\n",
       "      <th>Billing Amount (Rs.)</th>\n",
       "      <th>Weight Slab Charged by Courier Company</th>\n",
       "    </tr>\n",
       "  </thead>\n",
       "  <tbody>\n",
       "    <tr>\n",
       "      <th>0</th>\n",
       "      <td>2001827036</td>\n",
       "      <td>8904223818706</td>\n",
       "      <td>1.0</td>\n",
       "      <td>127</td>\n",
       "      <td>173213</td>\n",
       "      <td>Forward charges</td>\n",
       "      <td>121003</td>\n",
       "      <td>e</td>\n",
       "      <td>0.127</td>\n",
       "      <td>0.5</td>\n",
       "      <td>56.6</td>\n",
       "      <td>1091122418320</td>\n",
       "      <td>1.6</td>\n",
       "      <td>121003</td>\n",
       "      <td>173213</td>\n",
       "      <td>b</td>\n",
       "      <td>Forward charges</td>\n",
       "      <td>117.9</td>\n",
       "      <td>2.0</td>\n",
       "    </tr>\n",
       "    <tr>\n",
       "      <th>1</th>\n",
       "      <td>2001827036</td>\n",
       "      <td>8904223819093</td>\n",
       "      <td>1.0</td>\n",
       "      <td>150</td>\n",
       "      <td>173213</td>\n",
       "      <td>Forward charges</td>\n",
       "      <td>121003</td>\n",
       "      <td>e</td>\n",
       "      <td>0.150</td>\n",
       "      <td>0.5</td>\n",
       "      <td>56.6</td>\n",
       "      <td>1091122418320</td>\n",
       "      <td>1.6</td>\n",
       "      <td>121003</td>\n",
       "      <td>173213</td>\n",
       "      <td>b</td>\n",
       "      <td>Forward charges</td>\n",
       "      <td>117.9</td>\n",
       "      <td>2.0</td>\n",
       "    </tr>\n",
       "    <tr>\n",
       "      <th>2</th>\n",
       "      <td>2001827036</td>\n",
       "      <td>8904223819109</td>\n",
       "      <td>1.0</td>\n",
       "      <td>100</td>\n",
       "      <td>173213</td>\n",
       "      <td>Forward charges</td>\n",
       "      <td>121003</td>\n",
       "      <td>e</td>\n",
       "      <td>0.100</td>\n",
       "      <td>0.5</td>\n",
       "      <td>56.6</td>\n",
       "      <td>1091122418320</td>\n",
       "      <td>1.6</td>\n",
       "      <td>121003</td>\n",
       "      <td>173213</td>\n",
       "      <td>b</td>\n",
       "      <td>Forward charges</td>\n",
       "      <td>117.9</td>\n",
       "      <td>2.0</td>\n",
       "    </tr>\n",
       "    <tr>\n",
       "      <th>3</th>\n",
       "      <td>2001827036</td>\n",
       "      <td>8904223818430</td>\n",
       "      <td>1.0</td>\n",
       "      <td>165</td>\n",
       "      <td>173213</td>\n",
       "      <td>Forward charges</td>\n",
       "      <td>121003</td>\n",
       "      <td>e</td>\n",
       "      <td>0.165</td>\n",
       "      <td>0.5</td>\n",
       "      <td>56.6</td>\n",
       "      <td>1091122418320</td>\n",
       "      <td>1.6</td>\n",
       "      <td>121003</td>\n",
       "      <td>173213</td>\n",
       "      <td>b</td>\n",
       "      <td>Forward charges</td>\n",
       "      <td>117.9</td>\n",
       "      <td>2.0</td>\n",
       "    </tr>\n",
       "    <tr>\n",
       "      <th>4</th>\n",
       "      <td>2001827036</td>\n",
       "      <td>8904223819277</td>\n",
       "      <td>1.0</td>\n",
       "      <td>350</td>\n",
       "      <td>173213</td>\n",
       "      <td>Forward charges</td>\n",
       "      <td>121003</td>\n",
       "      <td>e</td>\n",
       "      <td>0.350</td>\n",
       "      <td>0.5</td>\n",
       "      <td>56.6</td>\n",
       "      <td>1091122418320</td>\n",
       "      <td>1.6</td>\n",
       "      <td>121003</td>\n",
       "      <td>173213</td>\n",
       "      <td>b</td>\n",
       "      <td>Forward charges</td>\n",
       "      <td>117.9</td>\n",
       "      <td>2.0</td>\n",
       "    </tr>\n",
       "  </tbody>\n",
       "</table>\n",
       "</div>"
      ],
      "text/plain": [
       "     Order ID            SKU  Order Qty  Weight (g)  Customer Pincode_x  \\\n",
       "0  2001827036  8904223818706        1.0         127              173213   \n",
       "1  2001827036  8904223819093        1.0         150              173213   \n",
       "2  2001827036  8904223819109        1.0         100              173213   \n",
       "3  2001827036  8904223818430        1.0         165              173213   \n",
       "4  2001827036  8904223819277        1.0         350              173213   \n",
       "\n",
       "  Type of Shipment_x  Warehouse Pincode_x Delivery Zone As Per ABC  \\\n",
       "0    Forward charges               121003                        e   \n",
       "1    Forward charges               121003                        e   \n",
       "2    Forward charges               121003                        e   \n",
       "3    Forward charges               121003                        e   \n",
       "4    Forward charges               121003                        e   \n",
       "\n",
       "   Weights (Kgs)  Weight Slab As Per ABC  Expected Charge as per ABC  \\\n",
       "0          0.127                     0.5                        56.6   \n",
       "1          0.150                     0.5                        56.6   \n",
       "2          0.100                     0.5                        56.6   \n",
       "3          0.165                     0.5                        56.6   \n",
       "4          0.350                     0.5                        56.6   \n",
       "\n",
       "        AWB Code  Charged Weight  Warehouse Pincode_y  Customer Pincode_y  \\\n",
       "0  1091122418320             1.6               121003              173213   \n",
       "1  1091122418320             1.6               121003              173213   \n",
       "2  1091122418320             1.6               121003              173213   \n",
       "3  1091122418320             1.6               121003              173213   \n",
       "4  1091122418320             1.6               121003              173213   \n",
       "\n",
       "  Delivery Zone Charged by Courier Company Type of Shipment_y  \\\n",
       "0                                        b    Forward charges   \n",
       "1                                        b    Forward charges   \n",
       "2                                        b    Forward charges   \n",
       "3                                        b    Forward charges   \n",
       "4                                        b    Forward charges   \n",
       "\n",
       "   Billing Amount (Rs.)  Weight Slab Charged by Courier Company  \n",
       "0                 117.9                                     2.0  \n",
       "1                 117.9                                     2.0  \n",
       "2                 117.9                                     2.0  \n",
       "3                 117.9                                     2.0  \n",
       "4                 117.9                                     2.0  "
      ]
     },
     "execution_count": 69,
     "metadata": {},
     "output_type": "execute_result"
    }
   ],
   "source": [
    "merged_output = merged2.merge(courier_invoice, on='Order ID')\n",
    "merged_output.head()"
   ]
  },
  {
   "cell_type": "markdown",
   "id": "803c60ce-3727-44d3-a187-7fd67a40ada7",
   "metadata": {},
   "source": [
    "Now let’s calculate the differences in charges and expected charges for each order:"
   ]
  },
  {
   "cell_type": "code",
   "execution_count": 70,
   "id": "0cee4c11-b486-406f-b8b9-28ee85afd324",
   "metadata": {
    "tags": []
   },
   "outputs": [
    {
     "name": "stdout",
     "output_type": "stream",
     "text": [
      "     Order ID  Difference (Rs.)  Expected Charge as per ABC\n",
      "0  2001827036              61.3                        56.6\n",
      "1  2001827036              61.3                        56.6\n",
      "2  2001827036              61.3                        56.6\n",
      "3  2001827036              61.3                        56.6\n",
      "4  2001827036              61.3                        56.6\n"
     ]
    }
   ],
   "source": [
    "df_diff = merged_output\n",
    "df_diff['Difference (Rs.)'] = df_diff['Billing Amount (Rs.)'] - df_diff['Expected Charge as per ABC']\n",
    "\n",
    "df_new = df_diff[['Order ID', 'Difference (Rs.)', 'Expected Charge as per ABC']]\n",
    "\n",
    "print(df_new.head())"
   ]
  },
  {
   "cell_type": "markdown",
   "id": "7ca6c051-d95f-47cf-acad-e9e71d1ae2b2",
   "metadata": {},
   "source": [
    "let’s summarize the accuracy of B2B courier charges based on the charged prices and expected prices:"
   ]
  },
  {
   "cell_type": "code",
   "execution_count": 71,
   "id": "f5597616-5cc2-42c0-bb13-968f7218c0d1",
   "metadata": {
    "tags": []
   },
   "outputs": [
    {
     "name": "stdout",
     "output_type": "stream",
     "text": [
      "                                         Description  Count  Amount (Rs.)\n",
      "0  Total Orders where ABC has been correctly charged     12         507.6\n",
      "1        Total Orders where ABC has been overcharged    382       33750.5\n",
      "2       Total Orders where ABC has been undercharged      7        -165.2\n"
     ]
    }
   ],
   "source": [
    "# Calculate the total orders in each category\n",
    "total_correctly_charged = len(df_new[df_new['Difference (Rs.)'] == 0])\n",
    "total_overcharged = len(df_new[df_new['Difference (Rs.)'] > 0])\n",
    "total_undercharged = len(df_new[df_new['Difference (Rs.)'] < 0])\n",
    "\n",
    "# Calculate the total amount in each category\n",
    "amount_overcharged = abs(df_new[df_new['Difference (Rs.)'] > 0]['Difference (Rs.)'].sum())\n",
    "amount_undercharged = df_new[df_new['Difference (Rs.)'] < 0]['Difference (Rs.)'].sum()\n",
    "amount_correctly_charged = df_new[df_new['Difference (Rs.)'] == 0]['Expected Charge as per ABC'].sum()\n",
    "\n",
    "# Create a new DataFrame for the summary\n",
    "summary_data = {'Description': ['Total Orders where ABC has been correctly charged',\n",
    "                                'Total Orders where ABC has been overcharged',\n",
    "                                'Total Orders where ABC has been undercharged'],\n",
    "                'Count': [total_correctly_charged, total_overcharged, total_undercharged],\n",
    "                'Amount (Rs.)': [amount_correctly_charged, amount_overcharged, amount_undercharged]}\n",
    "\n",
    "df_summary = pd.DataFrame(summary_data)\n",
    "\n",
    "print(df_summary)"
   ]
  },
  {
   "cell_type": "markdown",
   "id": "5a8e5f27-cad9-4d17-8e09-c000073c2f8c",
   "metadata": {
    "tags": []
   },
   "source": [
    "We can also visualize the proportion of errors. I will be usingpie chart to do so. Here it is :"
   ]
  },
  {
   "cell_type": "code",
   "execution_count": 103,
   "id": "c6c3aa35-f8e4-4876-bc35-1672a6fa5854",
   "metadata": {
    "tags": []
   },
   "outputs": [
    {
     "data": {
      "image/png": "[encoded data removed]",
      "text/plain": [
       "<Figure size 640x480 with 1 Axes>"
      ]
     },
     "metadata": {},
     "output_type": "display_data"
    }
   ],
   "source": [
    "import matplotlib.pyplot as plt\n",
    "labels = df_summary['Description']\n",
    "values = df_summary['Count']\n",
    "\n",
    "# Create a donut pie chart\n",
    "fig, ax = plt.subplots()\n",
    "ax.pie(values, labels=labels, autopct='%1.1f%%', startangle=90, pctdistance=0.85, wedgeprops={'edgecolor': 'grey'})\n",
    "\n",
    "# Draw a white circle in the center to create the donut effect\n",
    "centre_circle = plt.Circle((0,0),0.50,fc='white')\n",
    "fig.gca().add_artist(centre_circle)\n",
    "\n",
    "# Equal aspect ratio ensures that pie is drawn as a circle.\n",
    "ax.axis('equal')\n",
    "\n",
    "# Set title\n",
    "plt.title('Proportion')\n",
    "\n",
    "# Display the plot\n",
    "plt.tight_layout()\n",
    "plt.show()"
   ]
  }
 ],
 "metadata": {
  "kernelspec": {
   "display_name": "Python 3 (ipykernel)",
   "language": "python",
   "name": "python3"
  },
  "language_info": {
   "codemirror_mode": {
    "name": "ipython",
    "version": 3
   },
   "file_extension": ".py",
   "mimetype": "text/x-python",
   "name": "python",
   "nbconvert_exporter": "python",
   "pygments_lexer": "ipython3",
   "version": "3.10.8"
  }
 },
 "nbformat": 4,
 "nbformat_minor": 5
}
